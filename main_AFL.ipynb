{
 "cells": [
  {
   "cell_type": "code",
   "execution_count": 5,
   "id": "8eab26a3-7311-46be-9160-248406da2221",
   "metadata": {},
   "outputs": [],
   "source": [
    "# Imported libraries.\n",
    "import requests\n",
    "import importlib\n",
    "from bs4 import BeautifulSoup\n",
    "import pandas as pd\n",
    "import snowflake.connector\n",
    "import sqlalchemy as db\n",
    "import numpy as np\n",
    "import import_ipynb\n",
    "import re\n",
    "from datetime import datetime, timedelta\n",
    "import json"
   ]
  },
  {
   "cell_type": "code",
   "execution_count": 53,
   "id": "271d92b6-f74e-44ec-8710-de0abbe63b39",
   "metadata": {},
   "outputs": [
    {
     "name": "stdout",
     "output_type": "stream",
     "text": [
      "Section 1:\n",
      "Teams: Sydney Swansv vs Hawthorn\n",
      "Odds: 1.86, 1.98\n",
      "----------------------------------------\n",
      "Section 2:\n",
      "Teams: GWS GIANTSv vs Collingwood\n",
      "Odds: 2.12, 1.73\n",
      "----------------------------------------\n"
     ]
    }
   ],
   "source": [
    "# URL to scrape\n",
    "sportsbet_url = \"https://www.sportsbet.com.au/betting/australian-rules/afl/round-0\"\n",
    "\n",
    "# Send a GET request to the website\n",
    "response = requests.get(sportsbet_url)\n",
    "\n",
    "# Parse the HTML content of the page\n",
    "soup = BeautifulSoup(response.content, \"html.parser\")\n",
    "\n",
    "# Find all sections that contain team names (using the provided class)\n",
    "participant_name_sections = soup.find_all('h2', {'class': 'participantNames_f1tkzekp', 'data-automation-id': True})\n",
    "\n",
    "# Loop through each section and extract teams and odds\n",
    "for section_index, participant_names in enumerate(participant_name_sections):\n",
    "    print(f\"Section {section_index + 1}:\")\n",
    "    \n",
    "    # Extract the two teams within the h2 tag\n",
    "    team_one = participant_names.find('span', {'data-automation-id': True, 'class': 'participant_f1adow81'})\n",
    "    team_two = team_one.find_next('span', {'data-automation-id': True, 'class': 'participant_f1adow81'}) if team_one else None\n",
    "    \n",
    "    team_one_name = team_one.get_text(strip=True) if team_one else \"Team 1 Not Found\"\n",
    "    team_two_name = team_two.get_text(strip=True) if team_two else \"Team 2 Not Found\"\n",
    "    \n",
    "    print(f\"Teams: {team_one_name} vs {team_two_name}\")\n",
    "    \n",
    "    # Find the odds for the section using the updated class for odds\n",
    "    odds_elements = participant_names.find_all_next('span', {'class': 'size14_f7opyze bold_f1au7gae priceTextSize_frw9zm9', 'data-automation-id': 'price-text'})\n",
    "\n",
    "    # Extract the first two odds (if available)\n",
    "    odds_text = [odd.get_text(strip=True) for odd in odds_elements[:2]]\n",
    "\n",
    "    # If there are less than 2 odds, append \"Odds Not Found\"\n",
    "    while len(odds_text) < 2:\n",
    "        odds_text.append(\"Odds Not Found\")\n",
    "    \n",
    "    print(f\"Odds: {', '.join(odds_text)}\")\n",
    "    print('-' * 40)  # Separator for readability\n"
   ]
  },
  {
   "cell_type": "code",
   "execution_count": 44,
   "id": "21492040-5aba-4132-8c75-16ae1fe4c0a9",
   "metadata": {},
   "outputs": [
    {
     "data": {
      "text/plain": [
       "4"
      ]
     },
     "execution_count": 44,
     "metadata": {},
     "output_type": "execute_result"
    }
   ],
   "source": [
    "len(sections)"
   ]
  },
  {
   "cell_type": "code",
   "execution_count": null,
   "id": "25f91d29-2159-4183-9828-502b84d9e50c",
   "metadata": {},
   "outputs": [],
   "source": []
  }
 ],
 "metadata": {
  "kernelspec": {
   "display_name": "Python 3 (ipykernel)",
   "language": "python",
   "name": "python3"
  },
  "language_info": {
   "codemirror_mode": {
    "name": "ipython",
    "version": 3
   },
   "file_extension": ".py",
   "mimetype": "text/x-python",
   "name": "python",
   "nbconvert_exporter": "python",
   "pygments_lexer": "ipython3",
   "version": "3.12.3"
  }
 },
 "nbformat": 4,
 "nbformat_minor": 5
}
